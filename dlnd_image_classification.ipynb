{
 "cells": [
  {
   "cell_type": "markdown",
   "metadata": {
    "collapsed": true
   },
   "source": [
    "# Image Classification\n",
    "In this project, you'll classify images from the [CIFAR-10 dataset](https://www.cs.toronto.edu/~kriz/cifar.html).  The dataset consists of airplanes, dogs, cats, and other objects. You'll preprocess the images, then train a convolutional neural network on all the samples. The images need to be normalized and the labels need to be one-hot encoded.  You'll get to apply what you learned and build a convolutional, max pooling, dropout, and fully connected layers.  At the end, you'll get to see your neural network's predictions on the sample images.\n",
    "## Get the Data\n",
    "Run the following cell to download the [CIFAR-10 dataset for python](https://www.cs.toronto.edu/~kriz/cifar-10-python.tar.gz)."
   ]
  },
  {
   "cell_type": "code",
   "execution_count": 1,
   "metadata": {},
   "outputs": [
    {
     "name": "stderr",
     "output_type": "stream",
     "text": [
      "CIFAR-10 Dataset: 171MB [03:04, 926KB/s]                                                                               \n"
     ]
    },
    {
     "name": "stdout",
     "output_type": "stream",
     "text": [
      "All files found!\n"
     ]
    }
   ],
   "source": [
    "\"\"\"\n",
    "DON'T MODIFY ANYTHING IN THIS CELL THAT IS BELOW THIS LINE\n",
    "\"\"\"\n",
    "from urllib.request import urlretrieve\n",
    "from os.path import isfile, isdir\n",
    "from tqdm import tqdm\n",
    "import problem_unittests as tests\n",
    "import tarfile\n",
    "\n",
    "cifar10_dataset_folder_path = 'cifar-10-batches-py'\n",
    "\n",
    "# Use Floyd's cifar-10 dataset if present\n",
    "floyd_cifar10_location = '/input/cifar-10/python.tar.gz'\n",
    "if isfile(floyd_cifar10_location):\n",
    "    tar_gz_path = floyd_cifar10_location\n",
    "else:\n",
    "    tar_gz_path = 'cifar-10-python.tar.gz'\n",
    "\n",
    "class DLProgress(tqdm):\n",
    "    last_block = 0\n",
    "\n",
    "    def hook(self, block_num=1, block_size=1, total_size=None):\n",
    "        self.total = total_size\n",
    "        self.update((block_num - self.last_block) * block_size)\n",
    "        self.last_block = block_num\n",
    "\n",
    "if not isfile(tar_gz_path):\n",
    "    with DLProgress(unit='B', unit_scale=True, miniters=1, desc='CIFAR-10 Dataset') as pbar:\n",
    "        urlretrieve(\n",
    "            'https://www.cs.toronto.edu/~kriz/cifar-10-python.tar.gz',\n",
    "            tar_gz_path,\n",
    "            pbar.hook)\n",
    "\n",
    "if not isdir(cifar10_dataset_folder_path):\n",
    "    with tarfile.open(tar_gz_path) as tar:\n",
    "        tar.extractall()\n",
    "        tar.close()\n",
    "\n",
    "\n",
    "tests.test_folder_path(cifar10_dataset_folder_path)"
   ]
  },
  {
   "cell_type": "markdown",
   "metadata": {},
   "source": [
    "## Explore the Data\n",
    "The dataset is broken into batches to prevent your machine from running out of memory.  The CIFAR-10 dataset consists of 5 batches, named `data_batch_1`, `data_batch_2`, etc.. Each batch contains the labels and images that are one of the following:\n",
    "* airplane\n",
    "* automobile\n",
    "* bird\n",
    "* cat\n",
    "* deer\n",
    "* dog\n",
    "* frog\n",
    "* horse\n",
    "* ship\n",
    "* truck\n",
    "\n",
    "Understanding a dataset is part of making predictions on the data.  Play around with the code cell below by changing the `batch_id` and `sample_id`. The `batch_id` is the id for a batch (1-5). The `sample_id` is the id for a image and label pair in the batch.\n",
    "\n",
    "Ask yourself \"What are all possible labels?\", \"What is the range of values for the image data?\", \"Are the labels in order or random?\".  Answers to questions like these will help you preprocess the data and end up with better predictions."
   ]
  },
  {
   "cell_type": "code",
   "execution_count": 9,
   "metadata": {},
   "outputs": [
    {
     "name": "stdout",
     "output_type": "stream",
     "text": [
      "\n",
      "Stats of batch 1:\n",
      "Samples: 10000\n",
      "Label Counts: {0: 1005, 1: 974, 2: 1032, 3: 1016, 4: 999, 5: 937, 6: 1030, 7: 1001, 8: 1025, 9: 981}\n",
      "First 20 Labels: [6, 9, 9, 4, 1, 1, 2, 7, 8, 3, 4, 7, 7, 2, 9, 9, 9, 3, 2, 6]\n",
      "\n",
      "Example of Image 2:\n",
      "Image - Min Value: 20 Max Value: 255\n",
      "Image - Shape: (32, 32, 3)\n",
      "Label - Label Id: 9 Name: truck\n"
     ]
    },
    {
     "data": {
      "image/png": "[encoded data removed]",
      "text/plain": [
       "<matplotlib.figure.Figure at 0x17bdc6a1da0>"
      ]
     },
     "metadata": {
      "image/png": {
       "height": 250,
       "width": 253
      }
     },
     "output_type": "display_data"
    }
   ],
   "source": [
    "%matplotlib inline\n",
    "%config InlineBackend.figure_format = 'retina'\n",
    "\n",
    "import helper\n",
    "import numpy as np\n",
    "\n",
    "# Explore the dataset\n",
    "batch_id = 1\n",
    "sample_id = 2\n",
    "helper.display_stats(cifar10_dataset_folder_path, batch_id, sample_id)"
   ]
  },
  {
   "cell_type": "markdown",
   "metadata": {},
   "source": [
    "## Implement Preprocess Functions\n",
    "### Normalize\n",
    "In the cell below, implement the `normalize` function to take in image data, `x`, and return it as a normalized Numpy array. The values should be in the range of 0 to 1, inclusive.  The return object should be the same shape as `x`."
   ]
  },
  {
   "cell_type": "code",
   "execution_count": 10,
   "metadata": {},
   "outputs": [
    {
     "name": "stdout",
     "output_type": "stream",
     "text": [
      "Tests Passed\n"
     ]
    }
   ],
   "source": [
    "def normalize(x):\n",
    "    \"\"\"\n",
    "    Normalize a list of sample image data in the range of 0 to 1\n",
    "    : x: List of image data.  The image shape is (32, 32, 3)\n",
    "    : return: Numpy array of normalize data\n",
    "    \"\"\"\n",
    "    x = x/255\n",
    "    return x\n",
    "\n",
    "\n",
    "\"\"\"\n",
    "DON'T MODIFY ANYTHING IN THIS CELL THAT IS BELOW THIS LINE\n",
    "\"\"\"\n",
    "tests.test_normalize(normalize)"
   ]
  },
  {
   "cell_type": "markdown",
   "metadata": {},
   "source": [
    "### One-hot encode\n",
    "Just like the previous code cell, you'll be implementing a function for preprocessing.  This time, you'll implement the `one_hot_encode` function. The input, `x`, are a list of labels.  Implement the function to return the list of labels as One-Hot encoded Numpy array.  The possible values for labels are 0 to 9. The one-hot encoding function should return the same encoding for each value between each call to `one_hot_encode`.  Make sure to save the map of encodings outside the function.\n",
    "\n",
    "Hint: Don't reinvent the wheel."
   ]
  },
  {
   "cell_type": "code",
   "execution_count": 17,
   "metadata": {},
   "outputs": [
    {
     "name": "stdout",
     "output_type": "stream",
     "text": [
      "Tests Passed\n"
     ]
    }
   ],
   "source": [
    "def one_hot_encode(x):\n",
    "    \"\"\"\n",
    "    One hot encode a list of sample labels. Return a one-hot encoded vector for each label.\n",
    "    : x: List of sample Labels\n",
    "    : return: Numpy array of one-hot encoded labels\n",
    "    \"\"\"\n",
    "    y = np.zeros([len(x),10])\n",
    "    for i in range(len(x)):\n",
    "        y[i,x[i]]=1\n",
    "    \n",
    "    return y\n",
    "\n",
    "\n",
    "\"\"\"\n",
    "DON'T MODIFY ANYTHING IN THIS CELL THAT IS BELOW THIS LINE\n",
    "\"\"\"\n",
    "tests.test_one_hot_encode(one_hot_encode)"
   ]
  },
  {
   "cell_type": "markdown",
   "metadata": {},
   "source": [
    "### Randomize Data\n",
    "As you saw from exploring the data above, the order of the samples are randomized.  It doesn't hurt to randomize it again, but you don't need to for this dataset."
   ]
  },
  {
   "cell_type": "markdown",
   "metadata": {},
   "source": [
    "## Preprocess all the data and save it\n",
    "Running the code cell below will preprocess all the CIFAR-10 data and save it to file. The code below also uses 10% of the training data for validation."
   ]
  },
  {
   "cell_type": "code",
   "execution_count": 18,
   "metadata": {
    "collapsed": true
   },
   "outputs": [],
   "source": [
    "\"\"\"\n",
    "DON'T MODIFY ANYTHING IN THIS CELL\n",
    "\"\"\"\n",
    "# Preprocess Training, Validation, and Testing Data\n",
    "helper.preprocess_and_save_data(cifar10_dataset_folder_path, normalize, one_hot_encode)"
   ]
  },
  {
   "cell_type": "markdown",
   "metadata": {},
   "source": [
    "# Check Point\n",
    "This is your first checkpoint.  If you ever decide to come back to this notebook or have to restart the notebook, you can start from here.  The preprocessed data has been saved to disk."
   ]
  },
  {
   "cell_type": "code",
   "execution_count": 1,
   "metadata": {
    "collapsed": true
   },
   "outputs": [],
   "source": [
    "\"\"\"\n",
    "DON'T MODIFY ANYTHING IN THIS CELL\n",
    "\"\"\"\n",
    "import pickle\n",
    "import problem_unittests as tests\n",
    "import helper\n",
    "\n",
    "# Load the Preprocessed Validation data\n",
    "valid_features, valid_labels = pickle.load(open('preprocess_validation.p', mode='rb'))"
   ]
  },
  {
   "cell_type": "markdown",
   "metadata": {},
   "source": [
    "## Build the network\n",
    "For the neural network, you'll build each layer into a function.  Most of the code you've seen has been outside of functions. To test your code more thoroughly, we require that you put each layer in a function.  This allows us to give you better feedback and test for simple mistakes using our unittests before you submit your project.\n",
    "\n",
    ">**Note:** If you're finding it hard to dedicate enough time for this course each week, we've provided a small shortcut to this part of the project. In the next couple of problems, you'll have the option to use classes from the [TensorFlow Layers](https://www.tensorflow.org/api_docs/python/tf/layers) or [TensorFlow Layers (contrib)](https://www.tensorflow.org/api_guides/python/contrib.layers) packages to build each layer, except the layers you build in the \"Convolutional and Max Pooling Layer\" section.  TF Layers is similar to Keras's and TFLearn's abstraction to layers, so it's easy to pickup.\n",
    "\n",
    ">However, if you would like to get the most out of this course, try to solve all the problems _without_ using anything from the TF Layers packages. You **can** still use classes from other packages that happen to have the same name as ones you find in TF Layers! For example, instead of using the TF Layers version of the `conv2d` class, [tf.layers.conv2d](https://www.tensorflow.org/api_docs/python/tf/layers/conv2d), you would want to use the TF Neural Network version of `conv2d`, [tf.nn.conv2d](https://www.tensorflow.org/api_docs/python/tf/nn/conv2d). \n",
    "\n",
    "Let's begin!\n",
    "\n",
    "### Input\n",
    "The neural network needs to read the image data, one-hot encoded labels, and dropout keep probability. Implement the following functions\n",
    "* Implement `neural_net_image_input`\n",
    " * Return a [TF Placeholder](https://www.tensorflow.org/api_docs/python/tf/placeholder)\n",
    " * Set the shape using `image_shape` with batch size set to `None`.\n",
    " * Name the TensorFlow placeholder \"x\" using the TensorFlow `name` parameter in the [TF Placeholder](https://www.tensorflow.org/api_docs/python/tf/placeholder).\n",
    "* Implement `neural_net_label_input`\n",
    " * Return a [TF Placeholder](https://www.tensorflow.org/api_docs/python/tf/placeholder)\n",
    " * Set the shape using `n_classes` with batch size set to `None`.\n",
    " * Name the TensorFlow placeholder \"y\" using the TensorFlow `name` parameter in the [TF Placeholder](https://www.tensorflow.org/api_docs/python/tf/placeholder).\n",
    "* Implement `neural_net_keep_prob_input`\n",
    " * Return a [TF Placeholder](https://www.tensorflow.org/api_docs/python/tf/placeholder) for dropout keep probability.\n",
    " * Name the TensorFlow placeholder \"keep_prob\" using the TensorFlow `name` parameter in the [TF Placeholder](https://www.tensorflow.org/api_docs/python/tf/placeholder).\n",
    "\n",
    "These names will be used at the end of the project to load your saved model.\n",
    "\n",
    "Note: `None` for shapes in TensorFlow allow for a dynamic size."
   ]
  },
  {
   "cell_type": "code",
   "execution_count": 2,
   "metadata": {},
   "outputs": [
    {
     "name": "stdout",
     "output_type": "stream",
     "text": [
      "Image Input Tests Passed.\n",
      "Label Input Tests Passed.\n",
      "Keep Prob Tests Passed.\n"
     ]
    }
   ],
   "source": [
    "import tensorflow as tf\n",
    "\n",
    "def neural_net_image_input(image_shape):\n",
    "    \"\"\"\n",
    "    Return a Tensor for a batch of image input\n",
    "    : image_shape: Shape of the images\n",
    "    : return: Tensor for image input.\n",
    "    \"\"\"\n",
    "     \n",
    "    return tf.placeholder(tf.float32, shape=[None, image_shape[0],image_shape[1],image_shape[2]], name='x')\n",
    "\n",
    "\n",
    "def neural_net_label_input(n_classes):\n",
    "    \"\"\"\n",
    "    Return a Tensor for a batch of label input\n",
    "    : n_classes: Number of classes\n",
    "    : return: Tensor for label input.\n",
    "    \"\"\"\n",
    "    \n",
    "    return tf.placeholder(tf.float32, shape=[None, n_classes], name='y')\n",
    "\n",
    "\n",
    "def neural_net_keep_prob_input():\n",
    "    \"\"\"\n",
    "    Return a Tensor for keep probability\n",
    "    : return: Tensor for keep probability.\n",
    "    \"\"\"\n",
    "    \n",
    "    return tf.placeholder(tf.float32, shape=None, name='keep_prob')\n",
    "\n",
    "\n",
    "\"\"\"\n",
    "DON'T MODIFY ANYTHING IN THIS CELL THAT IS BELOW THIS LINE\n",
    "\"\"\"\n",
    "tf.reset_default_graph()\n",
    "tests.test_nn_image_inputs(neural_net_image_input)\n",
    "tests.test_nn_label_inputs(neural_net_label_input)\n",
    "tests.test_nn_keep_prob_inputs(neural_net_keep_prob_input)"
   ]
  },
  {
   "cell_type": "markdown",
   "metadata": {},
   "source": [
    "### Convolution and Max Pooling Layer\n",
    "Convolution layers have a lot of success with images. For this code cell, you should implement the function `conv2d_maxpool` to apply convolution then max pooling:\n",
    "* Create the weight and bias using `conv_ksize`, `conv_num_outputs` and the shape of `x_tensor`.\n",
    "* Apply a convolution to `x_tensor` using weight and `conv_strides`.\n",
    " * We recommend you use same padding, but you're welcome to use any padding.\n",
    "* Add bias\n",
    "* Add a nonlinear activation to the convolution.\n",
    "* Apply Max Pooling using `pool_ksize` and `pool_strides`.\n",
    " * We recommend you use same padding, but you're welcome to use any padding.\n",
    "\n",
    "**Note:** You **can't** use [TensorFlow Layers](https://www.tensorflow.org/api_docs/python/tf/layers) or [TensorFlow Layers (contrib)](https://www.tensorflow.org/api_guides/python/contrib.layers) for **this** layer, but you can still use TensorFlow's [Neural Network](https://www.tensorflow.org/api_docs/python/tf/nn) package. You may still use the shortcut option for all the **other** layers."
   ]
  },
  {
   "cell_type": "code",
   "execution_count": 3,
   "metadata": {},
   "outputs": [
    {
     "name": "stdout",
     "output_type": "stream",
     "text": [
      "Tests Passed\n"
     ]
    }
   ],
   "source": [
    "def conv2d_maxpool(x_tensor, conv_num_outputs, conv_ksize, conv_strides, pool_ksize, pool_strides):\n",
    "    \"\"\"\n",
    "    Apply convolution then max pooling to x_tensor\n",
    "    :param x_tensor: TensorFlow Tensor\n",
    "    :param conv_num_outputs: Number of outputs for the convolutional layer\n",
    "    :param conv_ksize: kernal size 2-D Tuple for the convolutional layer\n",
    "    :param conv_strides: Stride 2-D Tuple for convolution\n",
    "    :param pool_ksize: kernal size 2-D Tuple for pool\n",
    "    :param pool_strides: Stride 2-D Tuple for pool\n",
    "    : return: A tensor that represents convolution and max pooling of x_tensor\n",
    "    \"\"\"\n",
    "    from math import ceil \n",
    "    strides_shapes = [1,conv_strides[0], conv_strides[1], 1]\n",
    "    tensor_shapes = x_tensor.get_shape().as_list()\n",
    "    \n",
    "    in_height = float(tensor_shapes[1])\n",
    "    in_width = float(tensor_shapes[2])\n",
    "    \n",
    "    out_height = ceil(float(in_height - conv_ksize[0]) / float(strides_shapes[1]))\n",
    "    out_width = ceil(float(in_width - conv_ksize[1]) / float(strides_shapes[2]))\n",
    "    \n",
    "    deepness = tensor_shapes[3]\n",
    "    weights_shape = [out_height, out_width, deepness, conv_num_outputs]\n",
    "    \n",
    "    weights = tf.Variable(tf.truncated_normal(weights_shape, stddev=0.1))\n",
    "    bias = tf.Variable(tf.zeros(conv_num_outputs))\n",
    "    \n",
    "    \n",
    "    conv_layer = tf.nn.conv2d(x_tensor,\n",
    "                              weights,\n",
    "                              strides_shapes,\n",
    "                              'SAME') \n",
    "    \n",
    "    conv_layer = tf.nn.bias_add(conv_layer, bias)\n",
    "    \n",
    "        \n",
    "    conv_layer = tf.nn.max_pool(conv_layer,\n",
    "                                ksize=[1, pool_ksize[0], pool_ksize[1], 1],\n",
    "                                strides=[1, pool_strides[0], pool_strides[1], 1],\n",
    "                                padding='SAME')\n",
    "    \n",
    "    conv_layer = tf.nn.relu(conv_layer)\n",
    "    \n",
    "    return conv_layer \n",
    "\n",
    "\n",
    "\"\"\"\n",
    "DON'T MODIFY ANYTHING IN THIS CELL THAT IS BELOW THIS LINE\n",
    "\"\"\"\n",
    "tests.test_con_pool(conv2d_maxpool)"
   ]
  },
  {
   "cell_type": "markdown",
   "metadata": {},
   "source": [
    "### Flatten Layer\n",
    "Implement the `flatten` function to change the dimension of `x_tensor` from a 4-D tensor to a 2-D tensor.  The output should be the shape (*Batch Size*, *Flattened Image Size*). Shortcut option: you can use classes from the [TensorFlow Layers](https://www.tensorflow.org/api_docs/python/tf/layers) or [TensorFlow Layers (contrib)](https://www.tensorflow.org/api_guides/python/contrib.layers) packages for this layer. For more of a challenge, only use other TensorFlow packages."
   ]
  },
  {
   "cell_type": "code",
   "execution_count": 4,
   "metadata": {},
   "outputs": [
    {
     "name": "stdout",
     "output_type": "stream",
     "text": [
      "Tests Passed\n"
     ]
    }
   ],
   "source": [
    "def flatten(x_tensor):\n",
    "    \"\"\"\n",
    "    Flatten x_tensor to (Batch Size, Flattened Image Size)\n",
    "    : x_tensor: A tensor of size (Batch Size, ...), where ... are the image dimensions.\n",
    "    : return: A tensor of size (Batch Size, Flattened Image Size).\n",
    "    \"\"\"\n",
    "    tensor_shapes = x_tensor.get_shape().as_list()\n",
    "    new_shapes = tensor_shapes[1] * tensor_shapes[2] * tensor_shapes[3]\n",
    "    \n",
    "    new_tensor = tf.reshape(x_tensor, [-1, new_shapes ])\n",
    "    return new_tensor\n",
    "\n",
    "\n",
    "\"\"\"\n",
    "DON'T MODIFY ANYTHING IN THIS CELL THAT IS BELOW THIS LINE\n",
    "\"\"\"\n",
    "tests.test_flatten(flatten)"
   ]
  },
  {
   "cell_type": "markdown",
   "metadata": {},
   "source": [
    "### Fully-Connected Layer\n",
    "Implement the `fully_conn` function to apply a fully connected layer to `x_tensor` with the shape (*Batch Size*, *num_outputs*). Shortcut option: you can use classes from the [TensorFlow Layers](https://www.tensorflow.org/api_docs/python/tf/layers) or [TensorFlow Layers (contrib)](https://www.tensorflow.org/api_guides/python/contrib.layers) packages for this layer. For more of a challenge, only use other TensorFlow packages."
   ]
  },
  {
   "cell_type": "code",
   "execution_count": 5,
   "metadata": {},
   "outputs": [
    {
     "name": "stdout",
     "output_type": "stream",
     "text": [
      "Tests Passed\n"
     ]
    }
   ],
   "source": [
    "def fully_conn(x_tensor, num_outputs):\n",
    "    \"\"\"\n",
    "    Apply a fully connected layer to x_tensor using weight and bias\n",
    "    : x_tensor: A 2-D tensor where the first dimension is batch size.\n",
    "    : num_outputs: The number of output that the new tensor should be.\n",
    "    : return: A 2-D tensor where the second dimension is num_outputs.\n",
    "    \"\"\"\n",
    "    tensor_shape = x_tensor.get_shape().as_list()\n",
    "    weights = tf.Variable(tf.truncated_normal([tensor_shape[1], num_outputs], stddev=0.1))\n",
    "    biases = tf.Variable(tf.zeros(num_outputs))\n",
    "    fully_conn = tf.add(tf.matmul(x_tensor, weights), biases)\n",
    "    fully_conn = tf.nn.relu(fully_conn)  \n",
    "\n",
    "    return fully_conn\n",
    "\n",
    "\n",
    "\"\"\"\n",
    "DON'T MODIFY ANYTHING IN THIS CELL THAT IS BELOW THIS LINE\n",
    "\"\"\"\n",
    "tests.test_fully_conn(fully_conn)"
   ]
  },
  {
   "cell_type": "markdown",
   "metadata": {},
   "source": [
    "### Output Layer\n",
    "Implement the `output` function to apply a fully connected layer to `x_tensor` with the shape (*Batch Size*, *num_outputs*). Shortcut option: you can use classes from the [TensorFlow Layers](https://www.tensorflow.org/api_docs/python/tf/layers) or [TensorFlow Layers (contrib)](https://www.tensorflow.org/api_guides/python/contrib.layers) packages for this layer. For more of a challenge, only use other TensorFlow packages.\n",
    "\n",
    "**Note:** Activation, softmax, or cross entropy should **not** be applied to this."
   ]
  },
  {
   "cell_type": "code",
   "execution_count": 6,
   "metadata": {},
   "outputs": [
    {
     "name": "stdout",
     "output_type": "stream",
     "text": [
      "Tests Passed\n"
     ]
    }
   ],
   "source": [
    "def output(x_tensor, num_outputs):\n",
    "    \"\"\"\n",
    "    Apply a output layer to x_tensor using weight and bias\n",
    "    : x_tensor: A 2-D tensor where the first dimension is batch size.\n",
    "    : num_outputs: The number of output that the new tensor should be.\n",
    "    : return: A 2-D tensor where the second dimension is num_outputs.\n",
    "    \"\"\"\n",
    "    tensor_shapes = x_tensor.get_shape().as_list()\n",
    "    weights = tf.Variable(tf.truncated_normal([tensor_shapes[1],num_outputs], stddev=0.1))\n",
    "    biases = tf.zeros(num_outputs)\n",
    "    out = tf.add(tf.matmul(x_tensor, weights), biases)\n",
    "    return out\n",
    "\n",
    "\n",
    "\"\"\"\n",
    "DON'T MODIFY ANYTHING IN THIS CELL THAT IS BELOW THIS LINE\n",
    "\"\"\"\n",
    "tests.test_output(output)"
   ]
  },
  {
   "cell_type": "markdown",
   "metadata": {},
   "source": [
    "### Create Convolutional Model\n",
    "Implement the function `conv_net` to create a convolutional neural network model. The function takes in a batch of images, `x`, and outputs logits.  Use the layers you created above to create this model:\n",
    "\n",
    "* Apply 1, 2, or 3 Convolution and Max Pool layers\n",
    "* Apply a Flatten Layer\n",
    "* Apply 1, 2, or 3 Fully Connected Layers\n",
    "* Apply an Output Layer\n",
    "* Return the output\n",
    "* Apply [TensorFlow's Dropout](https://www.tensorflow.org/api_docs/python/tf/nn/dropout) to one or more layers in the model using `keep_prob`. "
   ]
  },
  {
   "cell_type": "code",
   "execution_count": 7,
   "metadata": {},
   "outputs": [
    {
     "name": "stdout",
     "output_type": "stream",
     "text": [
      "Neural Network Built!\n"
     ]
    }
   ],
   "source": [
    "def conv_net(x, keep_prob):\n",
    "    \"\"\"\n",
    "    Create a convolutional neural network model\n",
    "    : x: Placeholder tensor that holds image data.\n",
    "    : keep_prob: Placeholder tensor that hold dropout keep probability.\n",
    "    : return: Tensor that represents logits\n",
    "    \"\"\"\n",
    "\n",
    "    x = conv2d_maxpool(x, 40, [2,2], [2,2], [2,2], [2,2])    \n",
    "    x = conv2d_maxpool(x, 90, [2,2], [2,2], [2,2], [2,2])\n",
    "\n",
    "\n",
    "    x = flatten(x)\n",
    "    x = tf.nn.dropout(x, keep_prob)   \n",
    "    \n",
    "    x = fully_conn(x, 150)\n",
    "    x = fully_conn(x, 50)    \n",
    "    x = fully_conn(x, 25)\n",
    "    \n",
    "    out = output(x, 10)\n",
    "    \n",
    "    return out\n",
    "\n",
    "\n",
    "\"\"\"\n",
    "DON'T MODIFY ANYTHING IN THIS CELL THAT IS BELOW THIS LINE\n",
    "\"\"\"\n",
    "\n",
    "##############################\n",
    "## Build the Neural Network ##\n",
    "##############################\n",
    "\n",
    "# Remove previous weights, bias, inputs, etc..\n",
    "tf.reset_default_graph()\n",
    "\n",
    "# Inputs\n",
    "x = neural_net_image_input((32, 32, 3))\n",
    "y = neural_net_label_input(10)\n",
    "keep_prob = neural_net_keep_prob_input()\n",
    "\n",
    "# Model\n",
    "logits = conv_net(x, keep_prob)\n",
    "\n",
    "# Name logits Tensor, so that is can be loaded from disk after training\n",
    "logits = tf.identity(logits, name='logits')\n",
    "\n",
    "# Loss and Optimizer\n",
    "cost = tf.reduce_mean(tf.nn.softmax_cross_entropy_with_logits(logits=logits, labels=y))\n",
    "optimizer = tf.train.AdamOptimizer().minimize(cost)\n",
    "\n",
    "# Accuracy\n",
    "correct_pred = tf.equal(tf.argmax(logits, 1), tf.argmax(y, 1))\n",
    "accuracy = tf.reduce_mean(tf.cast(correct_pred, tf.float32), name='accuracy')\n",
    "\n",
    "tests.test_conv_net(conv_net)"
   ]
  },
  {
   "cell_type": "markdown",
   "metadata": {},
   "source": [
    "## Train the Neural Network\n",
    "### Single Optimization\n",
    "Implement the function `train_neural_network` to do a single optimization.  The optimization should use `optimizer` to optimize in `session` with a `feed_dict` of the following:\n",
    "* `x` for image input\n",
    "* `y` for labels\n",
    "* `keep_prob` for keep probability for dropout\n",
    "\n",
    "This function will be called for each batch, so `tf.global_variables_initializer()` has already been called.\n",
    "\n",
    "Note: Nothing needs to be returned. This function is only optimizing the neural network."
   ]
  },
  {
   "cell_type": "code",
   "execution_count": 8,
   "metadata": {},
   "outputs": [
    {
     "name": "stdout",
     "output_type": "stream",
     "text": [
      "Tests Passed\n"
     ]
    }
   ],
   "source": [
    "def train_neural_network(session, optimizer, keep_probability, feature_batch, label_batch):\n",
    "    \"\"\"\n",
    "    Optimize the session on a batch of images and labels\n",
    "    : session: Current TensorFlow session\n",
    "    : optimizer: TensorFlow optimizer function\n",
    "    : keep_probability: keep probability\n",
    "    : feature_batch: Batch of Numpy image data\n",
    "    : label_batch: Batch of Numpy label data\n",
    "    \"\"\"\n",
    "    \n",
    "    session.run(optimizer, feed_dict ={x: feature_batch, \n",
    "                                       y: label_batch, \n",
    "                                       keep_prob: keep_probability})\n",
    "        \n",
    "    \n",
    "\"\"\"\n",
    "DON'T MODIFY ANYTHING IN THIS CELL THAT IS BELOW THIS LINE\n",
    "\"\"\"\n",
    "tests.test_train_nn(train_neural_network)"
   ]
  },
  {
   "cell_type": "markdown",
   "metadata": {},
   "source": [
    "### Show Stats\n",
    "Implement the function `print_stats` to print loss and validation accuracy.  Use the global variables `valid_features` and `valid_labels` to calculate validation accuracy.  Use a keep probability of `1.0` to calculate the loss and validation accuracy."
   ]
  },
  {
   "cell_type": "code",
   "execution_count": 9,
   "metadata": {
    "collapsed": true
   },
   "outputs": [],
   "source": [
    "def print_stats(session, feature_batch, label_batch, cost, accuracy):\n",
    "    \"\"\"\n",
    "    Print information about loss and validation accuracy\n",
    "    : session: Current TensorFlow session\n",
    "    : feature_batch: Batch of Numpy image data\n",
    "    : label_batch: Batch of Numpy label data\n",
    "    : cost: TensorFlow cost function\n",
    "    : accuracy: TensorFlow accuracy function\n",
    "    \"\"\"\n",
    "    \n",
    "    print('Cost: ', session.run(cost, feed_dict = {x: valid_features, y:valid_labels, keep_prob: 1.}),end=', '),\n",
    "    print('Accuracy: ',session.run(accuracy, feed_dict = {x: valid_features, y:valid_labels, keep_prob: 1.}))\n",
    "\n",
    "    \n",
    "    pass"
   ]
  },
  {
   "cell_type": "markdown",
   "metadata": {},
   "source": [
    "### Hyperparameters\n",
    "Tune the following parameters:\n",
    "* Set `epochs` to the number of iterations until the network stops learning or start overfitting\n",
    "* Set `batch_size` to the highest number that your machine has memory for.  Most people set them to common sizes of memory:\n",
    " * 64\n",
    " * 128\n",
    " * 256\n",
    " * ...\n",
    "* Set `keep_probability` to the probability of keeping a node using dropout"
   ]
  },
  {
   "cell_type": "code",
   "execution_count": 10,
   "metadata": {
    "collapsed": true
   },
   "outputs": [],
   "source": [
    "# TODO: Tune Parameters\n",
    "epochs = 50\n",
    "batch_size = 256\n",
    "keep_probability = 0.5"
   ]
  },
  {
   "cell_type": "markdown",
   "metadata": {},
   "source": [
    "### Train on a Single CIFAR-10 Batch\n",
    "Instead of training the neural network on all the CIFAR-10 batches of data, let's use a single batch. This should save time while you iterate on the model to get a better accuracy.  Once the final validation accuracy is 50% or greater, run the model on all the data in the next section."
   ]
  },
  {
   "cell_type": "code",
   "execution_count": 11,
   "metadata": {},
   "outputs": [
    {
     "name": "stdout",
     "output_type": "stream",
     "text": [
      "Checking the Training on a Single Batch...\n",
      "Epoch  1, CIFAR-10 Batch 1:  Cost:  2.12716, Accuracy:  0.224\n",
      "Epoch  2, CIFAR-10 Batch 1:  Cost:  1.89154, Accuracy:  0.302\n",
      "Epoch  3, CIFAR-10 Batch 1:  Cost:  1.78703, Accuracy:  0.3562\n",
      "Epoch  4, CIFAR-10 Batch 1:  Cost:  1.78854, Accuracy:  0.3466\n",
      "Epoch  5, CIFAR-10 Batch 1:  Cost:  1.74911, Accuracy:  0.3588\n",
      "Epoch  6, CIFAR-10 Batch 1:  Cost:  1.67903, Accuracy:  0.3772\n",
      "Epoch  7, CIFAR-10 Batch 1:  Cost:  1.63288, Accuracy:  0.3986\n",
      "Epoch  8, CIFAR-10 Batch 1:  Cost:  1.62127, Accuracy:  0.4028\n",
      "Epoch  9, CIFAR-10 Batch 1:  Cost:  1.55968, Accuracy:  0.4298\n",
      "Epoch 10, CIFAR-10 Batch 1:  Cost:  1.56444, Accuracy:  0.4296\n",
      "Epoch 11, CIFAR-10 Batch 1:  Cost:  1.56271, Accuracy:  0.4278\n",
      "Epoch 12, CIFAR-10 Batch 1:  Cost:  1.52726, Accuracy:  0.443\n",
      "Epoch 13, CIFAR-10 Batch 1:  Cost:  1.53957, Accuracy:  0.4354\n",
      "Epoch 14, CIFAR-10 Batch 1:  Cost:  1.54379, Accuracy:  0.4366\n",
      "Epoch 15, CIFAR-10 Batch 1:  Cost:  1.49441, Accuracy:  0.4598\n",
      "Epoch 16, CIFAR-10 Batch 1:  Cost:  1.45233, Accuracy:  0.4712\n",
      "Epoch 17, CIFAR-10 Batch 1:  Cost:  1.46751, Accuracy:  0.469\n",
      "Epoch 18, CIFAR-10 Batch 1:  Cost:  1.44442, Accuracy:  0.477\n",
      "Epoch 19, CIFAR-10 Batch 1:  Cost:  1.48206, Accuracy:  0.464\n",
      "Epoch 20, CIFAR-10 Batch 1:  Cost:  1.43287, Accuracy:  0.4786\n",
      "Epoch 21, CIFAR-10 Batch 1:  Cost:  1.44535, Accuracy:  0.4786\n",
      "Epoch 22, CIFAR-10 Batch 1:  Cost:  1.44869, Accuracy:  0.4766\n",
      "Epoch 23, CIFAR-10 Batch 1:  Cost:  1.40604, Accuracy:  0.4958\n",
      "Epoch 24, CIFAR-10 Batch 1:  Cost:  1.5044, Accuracy:  0.4658\n",
      "Epoch 25, CIFAR-10 Batch 1:  Cost:  1.46824, Accuracy:  0.483\n",
      "Epoch 26, CIFAR-10 Batch 1:  Cost:  1.44752, Accuracy:  0.4902\n",
      "Epoch 27, CIFAR-10 Batch 1:  Cost:  1.40002, Accuracy:  0.501\n",
      "Epoch 28, CIFAR-10 Batch 1:  Cost:  1.39989, Accuracy:  0.5032\n",
      "Epoch 29, CIFAR-10 Batch 1:  Cost:  1.47269, Accuracy:  0.4806\n",
      "Epoch 30, CIFAR-10 Batch 1:  Cost:  1.53362, Accuracy:  0.4744\n",
      "Epoch 31, CIFAR-10 Batch 1:  Cost:  1.40046, Accuracy:  0.4954\n",
      "Epoch 32, CIFAR-10 Batch 1:  Cost:  1.43535, Accuracy:  0.4958\n",
      "Epoch 33, CIFAR-10 Batch 1:  Cost:  1.40016, Accuracy:  0.509\n",
      "Epoch 34, CIFAR-10 Batch 1:  Cost:  1.44578, Accuracy:  0.4898\n",
      "Epoch 35, CIFAR-10 Batch 1:  Cost:  1.3992, Accuracy:  0.5066\n",
      "Epoch 36, CIFAR-10 Batch 1:  Cost:  1.38071, Accuracy:  0.5128\n",
      "Epoch 37, CIFAR-10 Batch 1:  Cost:  1.47649, Accuracy:  0.4936\n",
      "Epoch 38, CIFAR-10 Batch 1:  Cost:  1.39398, Accuracy:  0.5094\n",
      "Epoch 39, CIFAR-10 Batch 1:  Cost:  1.40215, Accuracy:  0.501\n",
      "Epoch 40, CIFAR-10 Batch 1:  Cost:  1.39358, Accuracy:  0.5092\n",
      "Epoch 41, CIFAR-10 Batch 1:  Cost:  1.39196, Accuracy:  0.5066\n",
      "Epoch 42, CIFAR-10 Batch 1:  Cost:  1.39892, Accuracy:  0.52\n",
      "Epoch 43, CIFAR-10 Batch 1:  Cost:  1.37815, Accuracy:  0.517\n",
      "Epoch 44, CIFAR-10 Batch 1:  Cost:  1.39573, Accuracy:  0.5106\n",
      "Epoch 45, CIFAR-10 Batch 1:  Cost:  1.40551, Accuracy:  0.5154\n",
      "Epoch 46, CIFAR-10 Batch 1:  Cost:  1.38318, Accuracy:  0.5198\n",
      "Epoch 47, CIFAR-10 Batch 1:  Cost:  1.3872, Accuracy:  0.5228\n",
      "Epoch 48, CIFAR-10 Batch 1:  Cost:  1.38824, Accuracy:  0.5164\n",
      "Epoch 49, CIFAR-10 Batch 1:  Cost:  1.39915, Accuracy:  0.5112\n",
      "Epoch 50, CIFAR-10 Batch 1:  Cost:  1.39317, Accuracy:  0.5176\n"
     ]
    }
   ],
   "source": [
    "\"\"\"\n",
    "DON'T MODIFY ANYTHING IN THIS CELL\n",
    "\"\"\"\n",
    "print('Checking the Training on a Single Batch...')\n",
    "with tf.Session() as sess:\n",
    "    # Initializing the variables\n",
    "    sess.run(tf.global_variables_initializer())\n",
    "    \n",
    "    # Training cycle\n",
    "    for epoch in range(epochs):\n",
    "        batch_i = 1\n",
    "        for batch_features, batch_labels in helper.load_preprocess_training_batch(batch_i, batch_size):\n",
    "            train_neural_network(sess, optimizer, keep_probability, batch_features, batch_labels)\n",
    "        print('Epoch {:>2}, CIFAR-10 Batch {}:  '.format(epoch + 1, batch_i), end='')\n",
    "        print_stats(sess, batch_features, batch_labels, cost, accuracy)\n",
    "        "
   ]
  },
  {
   "cell_type": "markdown",
   "metadata": {},
   "source": [
    "### Fully Train the Model\n",
    "Now that you got a good accuracy with a single CIFAR-10 batch, try it with all five batches."
   ]
  },
  {
   "cell_type": "code",
   "execution_count": 12,
   "metadata": {},
   "outputs": [
    {
     "name": "stdout",
     "output_type": "stream",
     "text": [
      "Training...\n",
      "Epoch  1, CIFAR-10 Batch 1:  Cost:  2.19346, Accuracy:  0.1484\n",
      "Epoch  1, CIFAR-10 Batch 2:  Cost:  1.97465, Accuracy:  0.262\n",
      "Epoch  1, CIFAR-10 Batch 3:  Cost:  1.90152, Accuracy:  0.3114\n",
      "Epoch  1, CIFAR-10 Batch 4:  Cost:  1.74568, Accuracy:  0.373\n",
      "Epoch  1, CIFAR-10 Batch 5:  Cost:  1.73673, Accuracy:  0.3606\n",
      "Epoch  2, CIFAR-10 Batch 1:  Cost:  1.71903, Accuracy:  0.369\n",
      "Epoch  2, CIFAR-10 Batch 2:  Cost:  1.65712, Accuracy:  0.3852\n",
      "Epoch  2, CIFAR-10 Batch 3:  Cost:  1.65203, Accuracy:  0.3902\n",
      "Epoch  2, CIFAR-10 Batch 4:  Cost:  1.57111, Accuracy:  0.433\n",
      "Epoch  2, CIFAR-10 Batch 5:  Cost:  1.57315, Accuracy:  0.4266\n",
      "Epoch  3, CIFAR-10 Batch 1:  Cost:  1.55993, Accuracy:  0.4196\n",
      "Epoch  3, CIFAR-10 Batch 2:  Cost:  1.54229, Accuracy:  0.4334\n",
      "Epoch  3, CIFAR-10 Batch 3:  Cost:  1.54699, Accuracy:  0.433\n",
      "Epoch  3, CIFAR-10 Batch 4:  Cost:  1.5491, Accuracy:  0.439\n",
      "Epoch  3, CIFAR-10 Batch 5:  Cost:  1.49, Accuracy:  0.4512\n",
      "Epoch  4, CIFAR-10 Batch 1:  Cost:  1.47065, Accuracy:  0.4566\n",
      "Epoch  4, CIFAR-10 Batch 2:  Cost:  1.46693, Accuracy:  0.462\n",
      "Epoch  4, CIFAR-10 Batch 3:  Cost:  1.47681, Accuracy:  0.4486\n",
      "Epoch  4, CIFAR-10 Batch 4:  Cost:  1.44124, Accuracy:  0.481\n",
      "Epoch  4, CIFAR-10 Batch 5:  Cost:  1.43673, Accuracy:  0.4682\n",
      "Epoch  5, CIFAR-10 Batch 1:  Cost:  1.42083, Accuracy:  0.471\n",
      "Epoch  5, CIFAR-10 Batch 2:  Cost:  1.39581, Accuracy:  0.4908\n",
      "Epoch  5, CIFAR-10 Batch 3:  Cost:  1.44927, Accuracy:  0.4594\n",
      "Epoch  5, CIFAR-10 Batch 4:  Cost:  1.41797, Accuracy:  0.4858\n",
      "Epoch  5, CIFAR-10 Batch 5:  Cost:  1.39489, Accuracy:  0.4858\n",
      "Epoch  6, CIFAR-10 Batch 1:  Cost:  1.38435, Accuracy:  0.4942\n",
      "Epoch  6, CIFAR-10 Batch 2:  Cost:  1.35568, Accuracy:  0.502\n",
      "Epoch  6, CIFAR-10 Batch 3:  Cost:  1.41405, Accuracy:  0.4862\n",
      "Epoch  6, CIFAR-10 Batch 4:  Cost:  1.40771, Accuracy:  0.4934\n",
      "Epoch  6, CIFAR-10 Batch 5:  Cost:  1.32999, Accuracy:  0.5128\n",
      "Epoch  7, CIFAR-10 Batch 1:  Cost:  1.3624, Accuracy:  0.4946\n",
      "Epoch  7, CIFAR-10 Batch 2:  Cost:  1.32908, Accuracy:  0.5182\n",
      "Epoch  7, CIFAR-10 Batch 3:  Cost:  1.39546, Accuracy:  0.492\n",
      "Epoch  7, CIFAR-10 Batch 4:  Cost:  1.32861, Accuracy:  0.5194\n",
      "Epoch  7, CIFAR-10 Batch 5:  Cost:  1.32079, Accuracy:  0.521\n",
      "Epoch  8, CIFAR-10 Batch 1:  Cost:  1.31434, Accuracy:  0.5198\n",
      "Epoch  8, CIFAR-10 Batch 2:  Cost:  1.32973, Accuracy:  0.5082\n",
      "Epoch  8, CIFAR-10 Batch 3:  Cost:  1.30222, Accuracy:  0.522\n",
      "Epoch  8, CIFAR-10 Batch 4:  Cost:  1.29067, Accuracy:  0.5306\n",
      "Epoch  8, CIFAR-10 Batch 5:  Cost:  1.2686, Accuracy:  0.54\n",
      "Epoch  9, CIFAR-10 Batch 1:  Cost:  1.27586, Accuracy:  0.5298\n",
      "Epoch  9, CIFAR-10 Batch 2:  Cost:  1.28918, Accuracy:  0.5322\n",
      "Epoch  9, CIFAR-10 Batch 3:  Cost:  1.30703, Accuracy:  0.5216\n",
      "Epoch  9, CIFAR-10 Batch 4:  Cost:  1.29462, Accuracy:  0.5306\n",
      "Epoch  9, CIFAR-10 Batch 5:  Cost:  1.24449, Accuracy:  0.548\n",
      "Epoch 10, CIFAR-10 Batch 1:  Cost:  1.29963, Accuracy:  0.525\n",
      "Epoch 10, CIFAR-10 Batch 2:  Cost:  1.27107, Accuracy:  0.5314\n",
      "Epoch 10, CIFAR-10 Batch 3:  Cost:  1.2548, Accuracy:  0.5492\n",
      "Epoch 10, CIFAR-10 Batch 4:  Cost:  1.24888, Accuracy:  0.5472\n",
      "Epoch 10, CIFAR-10 Batch 5:  Cost:  1.22378, Accuracy:  0.5576\n",
      "Epoch 11, CIFAR-10 Batch 1:  Cost:  1.24509, Accuracy:  0.5496\n",
      "Epoch 11, CIFAR-10 Batch 2:  Cost:  1.25943, Accuracy:  0.5382\n",
      "Epoch 11, CIFAR-10 Batch 3:  Cost:  1.25395, Accuracy:  0.543\n",
      "Epoch 11, CIFAR-10 Batch 4:  Cost:  1.25724, Accuracy:  0.5452\n",
      "Epoch 11, CIFAR-10 Batch 5:  Cost:  1.21136, Accuracy:  0.5622\n",
      "Epoch 12, CIFAR-10 Batch 1:  Cost:  1.2299, Accuracy:  0.5568\n",
      "Epoch 12, CIFAR-10 Batch 2:  Cost:  1.22654, Accuracy:  0.5478\n",
      "Epoch 12, CIFAR-10 Batch 3:  Cost:  1.23919, Accuracy:  0.553\n",
      "Epoch 12, CIFAR-10 Batch 4:  Cost:  1.20568, Accuracy:  0.567\n",
      "Epoch 12, CIFAR-10 Batch 5:  Cost:  1.2086, Accuracy:  0.5582\n",
      "Epoch 13, CIFAR-10 Batch 1:  Cost:  1.20784, Accuracy:  0.559\n",
      "Epoch 13, CIFAR-10 Batch 2:  Cost:  1.30541, Accuracy:  0.5206\n",
      "Epoch 13, CIFAR-10 Batch 3:  Cost:  1.21463, Accuracy:  0.5572\n",
      "Epoch 13, CIFAR-10 Batch 4:  Cost:  1.19792, Accuracy:  0.5624\n",
      "Epoch 13, CIFAR-10 Batch 5:  Cost:  1.21223, Accuracy:  0.561\n",
      "Epoch 14, CIFAR-10 Batch 1:  Cost:  1.2031, Accuracy:  0.5678\n",
      "Epoch 14, CIFAR-10 Batch 2:  Cost:  1.2221, Accuracy:  0.552\n",
      "Epoch 14, CIFAR-10 Batch 3:  Cost:  1.20962, Accuracy:  0.5622\n",
      "Epoch 14, CIFAR-10 Batch 4:  Cost:  1.19107, Accuracy:  0.576\n",
      "Epoch 14, CIFAR-10 Batch 5:  Cost:  1.17576, Accuracy:  0.5758\n",
      "Epoch 15, CIFAR-10 Batch 1:  Cost:  1.20516, Accuracy:  0.5648\n",
      "Epoch 15, CIFAR-10 Batch 2:  Cost:  1.25256, Accuracy:  0.5438\n",
      "Epoch 15, CIFAR-10 Batch 3:  Cost:  1.19237, Accuracy:  0.5724\n",
      "Epoch 15, CIFAR-10 Batch 4:  Cost:  1.1719, Accuracy:  0.5778\n",
      "Epoch 15, CIFAR-10 Batch 5:  Cost:  1.17309, Accuracy:  0.575\n",
      "Epoch 16, CIFAR-10 Batch 1:  Cost:  1.17842, Accuracy:  0.5728\n",
      "Epoch 16, CIFAR-10 Batch 2:  Cost:  1.22135, Accuracy:  0.556\n",
      "Epoch 16, CIFAR-10 Batch 3:  Cost:  1.17831, Accuracy:  0.576\n",
      "Epoch 16, CIFAR-10 Batch 4:  Cost:  1.165, Accuracy:  0.58\n",
      "Epoch 16, CIFAR-10 Batch 5:  Cost:  1.15874, Accuracy:  0.5778\n",
      "Epoch 17, CIFAR-10 Batch 1:  Cost:  1.16185, Accuracy:  0.5816\n",
      "Epoch 17, CIFAR-10 Batch 2:  Cost:  1.20267, Accuracy:  0.5622\n",
      "Epoch 17, CIFAR-10 Batch 3:  Cost:  1.16493, Accuracy:  0.5788\n",
      "Epoch 17, CIFAR-10 Batch 4:  Cost:  1.19847, Accuracy:  0.568\n",
      "Epoch 17, CIFAR-10 Batch 5:  Cost:  1.14036, Accuracy:  0.5846\n",
      "Epoch 18, CIFAR-10 Batch 1:  Cost:  1.18479, Accuracy:  0.5736\n",
      "Epoch 18, CIFAR-10 Batch 2:  Cost:  1.1979, Accuracy:  0.5594\n",
      "Epoch 18, CIFAR-10 Batch 3:  Cost:  1.15089, Accuracy:  0.582\n",
      "Epoch 18, CIFAR-10 Batch 4:  Cost:  1.14913, Accuracy:  0.5852\n",
      "Epoch 18, CIFAR-10 Batch 5:  Cost:  1.13562, Accuracy:  0.5928\n",
      "Epoch 19, CIFAR-10 Batch 1:  Cost:  1.14236, Accuracy:  0.5936\n",
      "Epoch 19, CIFAR-10 Batch 2:  Cost:  1.14846, Accuracy:  0.5848\n",
      "Epoch 19, CIFAR-10 Batch 3:  Cost:  1.14123, Accuracy:  0.5904\n",
      "Epoch 19, CIFAR-10 Batch 4:  Cost:  1.14151, Accuracy:  0.5906\n",
      "Epoch 19, CIFAR-10 Batch 5:  Cost:  1.13991, Accuracy:  0.5906\n",
      "Epoch 20, CIFAR-10 Batch 1:  Cost:  1.15121, Accuracy:  0.589\n",
      "Epoch 20, CIFAR-10 Batch 2:  Cost:  1.16407, Accuracy:  0.5756\n",
      "Epoch 20, CIFAR-10 Batch 3:  Cost:  1.14571, Accuracy:  0.5924\n",
      "Epoch 20, CIFAR-10 Batch 4:  Cost:  1.12398, Accuracy:  0.5952\n",
      "Epoch 20, CIFAR-10 Batch 5:  Cost:  1.11598, Accuracy:  0.5978\n",
      "Epoch 21, CIFAR-10 Batch 1:  Cost:  1.14113, Accuracy:  0.595\n",
      "Epoch 21, CIFAR-10 Batch 2:  Cost:  1.14771, Accuracy:  0.5836\n",
      "Epoch 21, CIFAR-10 Batch 3:  Cost:  1.14606, Accuracy:  0.5888\n",
      "Epoch 21, CIFAR-10 Batch 4:  Cost:  1.13784, Accuracy:  0.5826\n",
      "Epoch 21, CIFAR-10 Batch 5:  Cost:  1.11723, Accuracy:  0.5944\n",
      "Epoch 22, CIFAR-10 Batch 1:  Cost:  1.12594, Accuracy:  0.5996\n",
      "Epoch 22, CIFAR-10 Batch 2:  Cost:  1.17135, Accuracy:  0.5692\n",
      "Epoch 22, CIFAR-10 Batch 3:  Cost:  1.11025, Accuracy:  0.6002\n",
      "Epoch 22, CIFAR-10 Batch 4:  Cost:  1.12089, Accuracy:  0.5992\n",
      "Epoch 22, CIFAR-10 Batch 5:  Cost:  1.10437, Accuracy:  0.596\n",
      "Epoch 23, CIFAR-10 Batch 1:  Cost:  1.11754, Accuracy:  0.594\n",
      "Epoch 23, CIFAR-10 Batch 2:  Cost:  1.17064, Accuracy:  0.5736\n",
      "Epoch 23, CIFAR-10 Batch 3:  Cost:  1.117, Accuracy:  0.5968\n",
      "Epoch 23, CIFAR-10 Batch 4:  Cost:  1.10815, Accuracy:  0.5968\n",
      "Epoch 23, CIFAR-10 Batch 5:  Cost:  1.1337, Accuracy:  0.5814\n",
      "Epoch 24, CIFAR-10 Batch 1:  Cost:  1.13845, Accuracy:  0.596\n",
      "Epoch 24, CIFAR-10 Batch 2:  Cost:  1.14707, Accuracy:  0.5814\n",
      "Epoch 24, CIFAR-10 Batch 3:  Cost:  1.10326, Accuracy:  0.602\n",
      "Epoch 24, CIFAR-10 Batch 4:  Cost:  1.13539, Accuracy:  0.5958\n",
      "Epoch 24, CIFAR-10 Batch 5:  Cost:  1.10646, Accuracy:  0.5938\n",
      "Epoch 25, CIFAR-10 Batch 1:  Cost:  1.12557, Accuracy:  0.6006\n",
      "Epoch 25, CIFAR-10 Batch 2:  Cost:  1.08913, Accuracy:  0.6026\n",
      "Epoch 25, CIFAR-10 Batch 3:  Cost:  1.09708, Accuracy:  0.603\n",
      "Epoch 25, CIFAR-10 Batch 4:  Cost:  1.10244, Accuracy:  0.6028\n",
      "Epoch 25, CIFAR-10 Batch 5:  Cost:  1.09818, Accuracy:  0.6076\n",
      "Epoch 26, CIFAR-10 Batch 1:  Cost:  1.10945, Accuracy:  0.6064\n",
      "Epoch 26, CIFAR-10 Batch 2:  Cost:  1.11659, Accuracy:  0.5932\n",
      "Epoch 26, CIFAR-10 Batch 3:  Cost:  1.09676, Accuracy:  0.6096\n",
      "Epoch 26, CIFAR-10 Batch 4:  Cost:  1.13061, Accuracy:  0.5918\n",
      "Epoch 26, CIFAR-10 Batch 5:  Cost:  1.11464, Accuracy:  0.595\n",
      "Epoch 27, CIFAR-10 Batch 1:  Cost:  1.11241, Accuracy:  0.6034\n"
     ]
    },
    {
     "name": "stdout",
     "output_type": "stream",
     "text": [
      "Epoch 27, CIFAR-10 Batch 2:  Cost:  1.09654, Accuracy:  0.5948\n",
      "Epoch 27, CIFAR-10 Batch 3:  Cost:  1.11419, Accuracy:  0.5956\n",
      "Epoch 27, CIFAR-10 Batch 4:  Cost:  1.10569, Accuracy:  0.6016\n",
      "Epoch 27, CIFAR-10 Batch 5:  Cost:  1.09022, Accuracy:  0.6084\n",
      "Epoch 28, CIFAR-10 Batch 1:  Cost:  1.09019, Accuracy:  0.6114\n",
      "Epoch 28, CIFAR-10 Batch 2:  Cost:  1.14863, Accuracy:  0.5866\n",
      "Epoch 28, CIFAR-10 Batch 3:  Cost:  1.0867, Accuracy:  0.6058\n",
      "Epoch 28, CIFAR-10 Batch 4:  Cost:  1.11895, Accuracy:  0.6034\n",
      "Epoch 28, CIFAR-10 Batch 5:  Cost:  1.08425, Accuracy:  0.61\n",
      "Epoch 29, CIFAR-10 Batch 1:  Cost:  1.09948, Accuracy:  0.6062\n",
      "Epoch 29, CIFAR-10 Batch 2:  Cost:  1.08948, Accuracy:  0.6066\n",
      "Epoch 29, CIFAR-10 Batch 3:  Cost:  1.08379, Accuracy:  0.6094\n",
      "Epoch 29, CIFAR-10 Batch 4:  Cost:  1.09153, Accuracy:  0.6034\n",
      "Epoch 29, CIFAR-10 Batch 5:  Cost:  1.05191, Accuracy:  0.6184\n",
      "Epoch 30, CIFAR-10 Batch 1:  Cost:  1.07235, Accuracy:  0.6152\n",
      "Epoch 30, CIFAR-10 Batch 2:  Cost:  1.10185, Accuracy:  0.601\n",
      "Epoch 30, CIFAR-10 Batch 3:  Cost:  1.09081, Accuracy:  0.609\n",
      "Epoch 30, CIFAR-10 Batch 4:  Cost:  1.08264, Accuracy:  0.6118\n",
      "Epoch 30, CIFAR-10 Batch 5:  Cost:  1.06865, Accuracy:  0.6124\n",
      "Epoch 31, CIFAR-10 Batch 1:  Cost:  1.08005, Accuracy:  0.6108\n",
      "Epoch 31, CIFAR-10 Batch 2:  Cost:  1.07165, Accuracy:  0.6132\n",
      "Epoch 31, CIFAR-10 Batch 3:  Cost:  1.0868, Accuracy:  0.6122\n",
      "Epoch 31, CIFAR-10 Batch 4:  Cost:  1.07916, Accuracy:  0.6146\n",
      "Epoch 31, CIFAR-10 Batch 5:  Cost:  1.09746, Accuracy:  0.6018\n",
      "Epoch 32, CIFAR-10 Batch 1:  Cost:  1.10006, Accuracy:  0.6068\n",
      "Epoch 32, CIFAR-10 Batch 2:  Cost:  1.07524, Accuracy:  0.6114\n",
      "Epoch 32, CIFAR-10 Batch 3:  Cost:  1.07447, Accuracy:  0.6128\n",
      "Epoch 32, CIFAR-10 Batch 4:  Cost:  1.06545, Accuracy:  0.6166\n",
      "Epoch 32, CIFAR-10 Batch 5:  Cost:  1.06474, Accuracy:  0.6162\n",
      "Epoch 33, CIFAR-10 Batch 1:  Cost:  1.0846, Accuracy:  0.6126\n",
      "Epoch 33, CIFAR-10 Batch 2:  Cost:  1.06552, Accuracy:  0.6128\n",
      "Epoch 33, CIFAR-10 Batch 3:  Cost:  1.1002, Accuracy:  0.6014\n",
      "Epoch 33, CIFAR-10 Batch 4:  Cost:  1.05705, Accuracy:  0.6112\n",
      "Epoch 33, CIFAR-10 Batch 5:  Cost:  1.07272, Accuracy:  0.6132\n",
      "Epoch 34, CIFAR-10 Batch 1:  Cost:  1.05763, Accuracy:  0.617\n",
      "Epoch 34, CIFAR-10 Batch 2:  Cost:  1.10666, Accuracy:  0.5972\n",
      "Epoch 34, CIFAR-10 Batch 3:  Cost:  1.08629, Accuracy:  0.6162\n",
      "Epoch 34, CIFAR-10 Batch 4:  Cost:  1.06325, Accuracy:  0.6154\n",
      "Epoch 34, CIFAR-10 Batch 5:  Cost:  1.06774, Accuracy:  0.6178\n",
      "Epoch 35, CIFAR-10 Batch 1:  Cost:  1.06643, Accuracy:  0.6166\n",
      "Epoch 35, CIFAR-10 Batch 2:  Cost:  1.07211, Accuracy:  0.6138\n",
      "Epoch 35, CIFAR-10 Batch 3:  Cost:  1.0526, Accuracy:  0.6252\n",
      "Epoch 35, CIFAR-10 Batch 4:  Cost:  1.04818, Accuracy:  0.6232\n",
      "Epoch 35, CIFAR-10 Batch 5:  Cost:  1.07801, Accuracy:  0.6126\n",
      "Epoch 36, CIFAR-10 Batch 1:  Cost:  1.05388, Accuracy:  0.6264\n",
      "Epoch 36, CIFAR-10 Batch 2:  Cost:  1.09992, Accuracy:  0.6086\n",
      "Epoch 36, CIFAR-10 Batch 3:  Cost:  1.05984, Accuracy:  0.6182\n",
      "Epoch 36, CIFAR-10 Batch 4:  Cost:  1.0549, Accuracy:  0.6256\n",
      "Epoch 36, CIFAR-10 Batch 5:  Cost:  1.05407, Accuracy:  0.6248\n",
      "Epoch 37, CIFAR-10 Batch 1:  Cost:  1.05863, Accuracy:  0.621\n",
      "Epoch 37, CIFAR-10 Batch 2:  Cost:  1.10911, Accuracy:  0.6006\n",
      "Epoch 37, CIFAR-10 Batch 3:  Cost:  1.07815, Accuracy:  0.6094\n",
      "Epoch 37, CIFAR-10 Batch 4:  Cost:  1.0589, Accuracy:  0.6218\n",
      "Epoch 37, CIFAR-10 Batch 5:  Cost:  1.03419, Accuracy:  0.6264\n",
      "Epoch 38, CIFAR-10 Batch 1:  Cost:  1.04055, Accuracy:  0.626\n",
      "Epoch 38, CIFAR-10 Batch 2:  Cost:  1.09282, Accuracy:  0.6068\n",
      "Epoch 38, CIFAR-10 Batch 3:  Cost:  1.06473, Accuracy:  0.6148\n",
      "Epoch 38, CIFAR-10 Batch 4:  Cost:  1.08179, Accuracy:  0.6078\n",
      "Epoch 38, CIFAR-10 Batch 5:  Cost:  1.06354, Accuracy:  0.6192\n",
      "Epoch 39, CIFAR-10 Batch 1:  Cost:  1.07105, Accuracy:  0.6174\n",
      "Epoch 39, CIFAR-10 Batch 2:  Cost:  1.05501, Accuracy:  0.6146\n",
      "Epoch 39, CIFAR-10 Batch 3:  Cost:  1.05026, Accuracy:  0.622\n",
      "Epoch 39, CIFAR-10 Batch 4:  Cost:  1.0477, Accuracy:  0.6246\n",
      "Epoch 39, CIFAR-10 Batch 5:  Cost:  1.09469, Accuracy:  0.6106\n",
      "Epoch 40, CIFAR-10 Batch 1:  Cost:  1.05187, Accuracy:  0.6264\n",
      "Epoch 40, CIFAR-10 Batch 2:  Cost:  1.07747, Accuracy:  0.61\n",
      "Epoch 40, CIFAR-10 Batch 3:  Cost:  1.07959, Accuracy:  0.614\n",
      "Epoch 40, CIFAR-10 Batch 4:  Cost:  1.0756, Accuracy:  0.6138\n",
      "Epoch 40, CIFAR-10 Batch 5:  Cost:  1.03937, Accuracy:  0.6292\n",
      "Epoch 41, CIFAR-10 Batch 1:  Cost:  1.04522, Accuracy:  0.6198\n",
      "Epoch 41, CIFAR-10 Batch 2:  Cost:  1.06791, Accuracy:  0.6144\n",
      "Epoch 41, CIFAR-10 Batch 3:  Cost:  1.09134, Accuracy:  0.6046\n",
      "Epoch 41, CIFAR-10 Batch 4:  Cost:  1.08005, Accuracy:  0.615\n",
      "Epoch 41, CIFAR-10 Batch 5:  Cost:  1.04322, Accuracy:  0.628\n",
      "Epoch 42, CIFAR-10 Batch 1:  Cost:  1.05451, Accuracy:  0.6218\n",
      "Epoch 42, CIFAR-10 Batch 2:  Cost:  1.1071, Accuracy:  0.5974\n",
      "Epoch 42, CIFAR-10 Batch 3:  Cost:  1.09992, Accuracy:  0.6028\n",
      "Epoch 42, CIFAR-10 Batch 4:  Cost:  1.04263, Accuracy:  0.6274\n",
      "Epoch 42, CIFAR-10 Batch 5:  Cost:  1.04086, Accuracy:  0.6204\n",
      "Epoch 43, CIFAR-10 Batch 1:  Cost:  1.08512, Accuracy:  0.609\n",
      "Epoch 43, CIFAR-10 Batch 2:  Cost:  1.09244, Accuracy:  0.6086\n",
      "Epoch 43, CIFAR-10 Batch 3:  Cost:  1.07841, Accuracy:  0.6064\n",
      "Epoch 43, CIFAR-10 Batch 4:  Cost:  1.03607, Accuracy:  0.6246\n",
      "Epoch 43, CIFAR-10 Batch 5:  Cost:  1.04985, Accuracy:  0.6232\n",
      "Epoch 44, CIFAR-10 Batch 1:  Cost:  1.04976, Accuracy:  0.6296\n",
      "Epoch 44, CIFAR-10 Batch 2:  Cost:  1.05243, Accuracy:  0.6218\n",
      "Epoch 44, CIFAR-10 Batch 3:  Cost:  1.04029, Accuracy:  0.623\n",
      "Epoch 44, CIFAR-10 Batch 4:  Cost:  1.04237, Accuracy:  0.6322\n",
      "Epoch 44, CIFAR-10 Batch 5:  Cost:  1.04453, Accuracy:  0.6246\n",
      "Epoch 45, CIFAR-10 Batch 1:  Cost:  1.04659, Accuracy:  0.6286\n",
      "Epoch 45, CIFAR-10 Batch 2:  Cost:  1.06818, Accuracy:  0.6132\n",
      "Epoch 45, CIFAR-10 Batch 3:  Cost:  1.08044, Accuracy:  0.6152\n",
      "Epoch 45, CIFAR-10 Batch 4:  Cost:  1.05044, Accuracy:  0.6232\n",
      "Epoch 45, CIFAR-10 Batch 5:  Cost:  1.02467, Accuracy:  0.6278\n",
      "Epoch 46, CIFAR-10 Batch 1:  Cost:  1.03266, Accuracy:  0.6308\n",
      "Epoch 46, CIFAR-10 Batch 2:  Cost:  1.06138, Accuracy:  0.6156\n",
      "Epoch 46, CIFAR-10 Batch 3:  Cost:  1.05185, Accuracy:  0.6216\n",
      "Epoch 46, CIFAR-10 Batch 4:  Cost:  1.02725, Accuracy:  0.6304\n",
      "Epoch 46, CIFAR-10 Batch 5:  Cost:  1.02844, Accuracy:  0.6308\n",
      "Epoch 47, CIFAR-10 Batch 1:  Cost:  1.05831, Accuracy:  0.6176\n",
      "Epoch 47, CIFAR-10 Batch 2:  Cost:  1.05322, Accuracy:  0.6172\n",
      "Epoch 47, CIFAR-10 Batch 3:  Cost:  1.02661, Accuracy:  0.6322\n",
      "Epoch 47, CIFAR-10 Batch 4:  Cost:  1.05078, Accuracy:  0.6238\n",
      "Epoch 47, CIFAR-10 Batch 5:  Cost:  1.02564, Accuracy:  0.6272\n",
      "Epoch 48, CIFAR-10 Batch 1:  Cost:  1.04047, Accuracy:  0.6264\n",
      "Epoch 48, CIFAR-10 Batch 2:  Cost:  1.04983, Accuracy:  0.6226\n",
      "Epoch 48, CIFAR-10 Batch 3:  Cost:  1.06887, Accuracy:  0.6162\n",
      "Epoch 48, CIFAR-10 Batch 4:  Cost:  1.02142, Accuracy:  0.6352\n",
      "Epoch 48, CIFAR-10 Batch 5:  Cost:  1.01346, Accuracy:  0.637\n",
      "Epoch 49, CIFAR-10 Batch 1:  Cost:  1.04848, Accuracy:  0.6276\n",
      "Epoch 49, CIFAR-10 Batch 2:  Cost:  1.06593, Accuracy:  0.615\n",
      "Epoch 49, CIFAR-10 Batch 3:  Cost:  1.05514, Accuracy:  0.622\n",
      "Epoch 49, CIFAR-10 Batch 4:  Cost:  1.03189, Accuracy:  0.6242\n",
      "Epoch 49, CIFAR-10 Batch 5:  Cost:  1.01609, Accuracy:  0.6314\n",
      "Epoch 50, CIFAR-10 Batch 1:  Cost:  1.02432, Accuracy:  0.6318\n",
      "Epoch 50, CIFAR-10 Batch 2:  Cost:  1.02911, Accuracy:  0.6322\n",
      "Epoch 50, CIFAR-10 Batch 3:  Cost:  1.04042, Accuracy:  0.624\n",
      "Epoch 50, CIFAR-10 Batch 4:  Cost:  1.02259, Accuracy:  0.6344\n",
      "Epoch 50, CIFAR-10 Batch 5:  Cost:  1.03502, Accuracy:  0.6288\n"
     ]
    }
   ],
   "source": [
    "\"\"\"\n",
    "DON'T MODIFY ANYTHING IN THIS CELL\n",
    "\"\"\"\n",
    "save_model_path = './image_classification'\n",
    "\n",
    "print('Training...')\n",
    "with tf.Session() as sess:\n",
    "    # Initializing the variables\n",
    "    sess.run(tf.global_variables_initializer())\n",
    "    \n",
    "    # Training cycle\n",
    "    for epoch in range(epochs):\n",
    "        # Loop over all batches\n",
    "        n_batches = 5\n",
    "        for batch_i in range(1, n_batches + 1):\n",
    "            for batch_features, batch_labels in helper.load_preprocess_training_batch(batch_i, batch_size):\n",
    "                train_neural_network(sess, optimizer, keep_probability, batch_features, batch_labels)\n",
    "            print('Epoch {:>2}, CIFAR-10 Batch {}:  '.format(epoch + 1, batch_i), end='')\n",
    "            print_stats(sess, batch_features, batch_labels, cost, accuracy)\n",
    "            \n",
    "    # Save Model\n",
    "    saver = tf.train.Saver()\n",
    "    save_path = saver.save(sess, save_model_path)"
   ]
  },
  {
   "cell_type": "markdown",
   "metadata": {},
   "source": [
    "# Checkpoint\n",
    "The model has been saved to disk.\n",
    "## Test Model\n",
    "Test your model against the test dataset.  This will be your final accuracy. You should have an accuracy greater than 50%. If you don't, keep tweaking the model architecture and parameters."
   ]
  },
  {
   "cell_type": "code",
   "execution_count": 13,
   "metadata": {},
   "outputs": [
    {
     "name": "stdout",
     "output_type": "stream",
     "text": [
      "INFO:tensorflow:Restoring parameters from ./image_classification\n",
      "Testing Accuracy: 0.63251953125\n",
      "\n"
     ]
    },
    {
     "data": {
      "image/png": "[encoded data removed]",
      "text/plain": [
       "<matplotlib.figure.Figure at 0x19dea162e80>"
      ]
     },
     "metadata": {
      "image/png": {
       "height": 319,
       "width": 355
      }
     },
     "output_type": "display_data"
    }
   ],
   "source": [
    "\"\"\"\n",
    "DON'T MODIFY ANYTHING IN THIS CELL\n",
    "\"\"\"\n",
    "%matplotlib inline\n",
    "%config InlineBackend.figure_format = 'retina'\n",
    "\n",
    "import tensorflow as tf\n",
    "import pickle\n",
    "import helper\n",
    "import random\n",
    "\n",
    "# Set batch size if not already set\n",
    "try:\n",
    "    if batch_size:\n",
    "        pass\n",
    "except NameError:\n",
    "    batch_size = 64\n",
    "\n",
    "save_model_path = './image_classification'\n",
    "n_samples = 4\n",
    "top_n_predictions = 3\n",
    "\n",
    "def test_model():\n",
    "    \"\"\"\n",
    "    Test the saved model against the test dataset\n",
    "    \"\"\"\n",
    "\n",
    "    test_features, test_labels = pickle.load(open('preprocess_test.p', mode='rb'))\n",
    "    loaded_graph = tf.Graph()\n",
    "\n",
    "    with tf.Session(graph=loaded_graph) as sess:\n",
    "        # Load model\n",
    "        loader = tf.train.import_meta_graph(save_model_path + '.meta')\n",
    "        loader.restore(sess, save_model_path)\n",
    "\n",
    "        # Get Tensors from loaded model\n",
    "        loaded_x = loaded_graph.get_tensor_by_name('x:0')\n",
    "        loaded_y = loaded_graph.get_tensor_by_name('y:0')\n",
    "        loaded_keep_prob = loaded_graph.get_tensor_by_name('keep_prob:0')\n",
    "        loaded_logits = loaded_graph.get_tensor_by_name('logits:0')\n",
    "        loaded_acc = loaded_graph.get_tensor_by_name('accuracy:0')\n",
    "        \n",
    "        # Get accuracy in batches for memory limitations\n",
    "        test_batch_acc_total = 0\n",
    "        test_batch_count = 0\n",
    "        \n",
    "        for test_feature_batch, test_label_batch in helper.batch_features_labels(test_features, test_labels, batch_size):\n",
    "            test_batch_acc_total += sess.run(\n",
    "                loaded_acc,\n",
    "                feed_dict={loaded_x: test_feature_batch, loaded_y: test_label_batch, loaded_keep_prob: 1.0})\n",
    "            test_batch_count += 1\n",
    "\n",
    "        print('Testing Accuracy: {}\\n'.format(test_batch_acc_total/test_batch_count))\n",
    "\n",
    "        # Print Random Samples\n",
    "        random_test_features, random_test_labels = tuple(zip(*random.sample(list(zip(test_features, test_labels)), n_samples)))\n",
    "        random_test_predictions = sess.run(\n",
    "            tf.nn.top_k(tf.nn.softmax(loaded_logits), top_n_predictions),\n",
    "            feed_dict={loaded_x: random_test_features, loaded_y: random_test_labels, loaded_keep_prob: 1.0})\n",
    "        helper.display_image_predictions(random_test_features, random_test_labels, random_test_predictions)\n",
    "\n",
    "\n",
    "test_model()"
   ]
  },
  {
   "cell_type": "markdown",
   "metadata": {},
   "source": [
    "## Why 50-80% Accuracy?\n",
    "You might be wondering why you can't get an accuracy any higher. First things first, 50% isn't bad for a simple CNN.  Pure guessing would get you 10% accuracy. However, you might notice people are getting scores [well above 80%](http://rodrigob.github.io/are_we_there_yet/build/classification_datasets_results.html#43494641522d3130).  That's because we haven't taught you all there is to know about neural networks. We still need to cover a few more techniques.\n",
    "## Submitting This Project\n",
    "When submitting this project, make sure to run all the cells before saving the notebook.  Save the notebook file as \"dlnd_image_classification.ipynb\" and save it as a HTML file under \"File\" -> \"Download as\".  Include the \"helper.py\" and \"problem_unittests.py\" files in your submission."
   ]
  }
 ],
 "metadata": {
  "kernelspec": {
   "display_name": "Python 3",
   "language": "python",
   "name": "python3"
  },
  "language_info": {
   "codemirror_mode": {
    "name": "ipython",
    "version": 3
   },
   "file_extension": ".py",
   "mimetype": "text/x-python",
   "name": "python",
   "nbconvert_exporter": "python",
   "pygments_lexer": "ipython3",
   "version": "3.5.3"
  }
 },
 "nbformat": 4,
 "nbformat_minor": 1
}
